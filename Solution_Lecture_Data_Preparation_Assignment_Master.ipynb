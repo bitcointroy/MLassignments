{
  "nbformat": 4,
  "nbformat_minor": 0,
  "metadata": {
    "colab": {
      "name": "Solution Lecture Data Preparation Assignment - Master.ipynb",
      "version": "0.3.2",
      "provenance": [],
      "collapsed_sections": []
    },
    "kernelspec": {
      "name": "python3",
      "display_name": "Python 3"
    }
  },
  "cells": [
    {
      "cell_type": "markdown",
      "metadata": {
        "id": "view-in-github",
        "colab_type": "text"
      },
      "source": [
        "[View in Colaboratory](https://colab.research.google.com/github/bitcointroy/MLassignments/blob/master/Solution_Lecture_Data_Preparation_Assignment_Master.ipynb)"
      ]
    },
    {
      "metadata": {
        "id": "oDi_fpUsyfmL",
        "colab_type": "text"
      },
      "cell_type": "markdown",
      "source": [
        "# Data Preparation\n",
        "\n",
        "Below are examples of the Titanic dataset, containing passenger records on board the titanic, and the OKCupid dataset, containing records authorized by OKCupid for use in Machine Learning research.\n",
        "\n",
        "Your assignment is to combine the results of the Titanic and OKCupid datasets. You should replace each passenger aboard the titanic and their relevant data with a matching individual from the OKCupid dataset.\n",
        "\n",
        "There should be no duplicates in the remaining dataset, with no NaNs, nulls, or missing information. More specifics at the bottom."
      ]
    },
    {
      "metadata": {
        "id": "pywly5CoyZMG",
        "colab_type": "code",
        "colab": {
          "base_uri": "https://localhost:8080/",
          "height": 731
        },
        "outputId": "73cd6e62-1ea0-4da6-c7f8-eb8d44185724"
      },
      "cell_type": "code",
      "source": [
        "import numpy as np\n",
        "import pandas as pd\n",
        "import seaborn as sns\n",
        "titanic = sns.load_dataset('titanic')\n",
        "\n",
        "# The first few records\n",
        "print('Header: \\r\\n', titanic.head(8), '\\r\\n')\n",
        "print(titanic.info())"
      ],
      "execution_count": 0,
      "outputs": [
        {
          "output_type": "stream",
          "text": [
            "Header: \r\n",
            "    survived  pclass     sex   age  sibsp  parch     fare embarked  class  \\\n",
            "0         0       3    male  22.0      1      0   7.2500        S  Third   \n",
            "1         1       1  female  38.0      1      0  71.2833        C  First   \n",
            "2         1       3  female  26.0      0      0   7.9250        S  Third   \n",
            "3         1       1  female  35.0      1      0  53.1000        S  First   \n",
            "4         0       3    male  35.0      0      0   8.0500        S  Third   \n",
            "5         0       3    male   NaN      0      0   8.4583        Q  Third   \n",
            "6         0       1    male  54.0      0      0  51.8625        S  First   \n",
            "7         0       3    male   2.0      3      1  21.0750        S  Third   \n",
            "\n",
            "     who  adult_male deck  embark_town alive  alone  \n",
            "0    man        True  NaN  Southampton    no  False  \n",
            "1  woman       False    C    Cherbourg   yes  False  \n",
            "2  woman       False  NaN  Southampton   yes   True  \n",
            "3  woman       False    C  Southampton   yes  False  \n",
            "4    man        True  NaN  Southampton    no   True  \n",
            "5    man        True  NaN   Queenstown    no   True  \n",
            "6    man        True    E  Southampton    no   True  \n",
            "7  child       False  NaN  Southampton    no  False   \r\n",
            "\n",
            "<class 'pandas.core.frame.DataFrame'>\n",
            "RangeIndex: 891 entries, 0 to 890\n",
            "Data columns (total 15 columns):\n",
            "survived       891 non-null int64\n",
            "pclass         891 non-null int64\n",
            "sex            891 non-null object\n",
            "age            714 non-null float64\n",
            "sibsp          891 non-null int64\n",
            "parch          891 non-null int64\n",
            "fare           891 non-null float64\n",
            "embarked       889 non-null object\n",
            "class          891 non-null category\n",
            "who            891 non-null object\n",
            "adult_male     891 non-null bool\n",
            "deck           203 non-null category\n",
            "embark_town    889 non-null object\n",
            "alive          891 non-null object\n",
            "alone          891 non-null bool\n",
            "dtypes: bool(2), category(2), float64(2), int64(4), object(5)\n",
            "memory usage: 80.6+ KB\n",
            "None\n"
          ],
          "name": "stdout"
        }
      ]
    },
    {
      "metadata": {
        "id": "EJREtHLd4VDC",
        "colab_type": "code",
        "colab": {
          "base_uri": "https://localhost:8080/",
          "height": 34
        },
        "outputId": "dab18446-1cdb-4999-f6e9-1e8495bc4942"
      },
      "cell_type": "code",
      "source": [
        "# 891 passengers with 15 data entries per\n",
        "print(titanic.shape)"
      ],
      "execution_count": 0,
      "outputs": [
        {
          "output_type": "stream",
          "text": [
            "(891, 15)\n"
          ],
          "name": "stdout"
        }
      ]
    },
    {
      "metadata": {
        "id": "xORLT36EifIx",
        "colab_type": "code",
        "colab": {
          "base_uri": "https://localhost:8080/",
          "height": 517
        },
        "outputId": "0e246506-550f-4763-88ab-038d5ff5b16d"
      },
      "cell_type": "code",
      "source": [
        "# describe produces interesting statistics about a pandas DataFrame or Series\n",
        "print(titanic.describe(include=[np.number]))\n",
        "\n",
        "import matplotlib.pyplot as plt\n",
        "plt.plot(titanic['fare'],titanic['age'],'or')\n",
        "plt.axvline(titanic['fare'].mean(),color=\"grey\")"
      ],
      "execution_count": 0,
      "outputs": [
        {
          "output_type": "stream",
          "text": [
            "         survived      pclass         age       sibsp       parch        fare\n",
            "count  891.000000  891.000000  714.000000  891.000000  891.000000  891.000000\n",
            "mean     0.383838    2.308642   29.699118    0.523008    0.381594   32.204208\n",
            "std      0.486592    0.836071   14.526497    1.102743    0.806057   49.693429\n",
            "min      0.000000    1.000000    0.420000    0.000000    0.000000    0.000000\n",
            "25%      0.000000    2.000000   20.125000    0.000000    0.000000    7.910400\n",
            "50%      0.000000    3.000000   28.000000    0.000000    0.000000   14.454200\n",
            "75%      1.000000    3.000000   38.000000    1.000000    0.000000   31.000000\n",
            "max      1.000000    3.000000   80.000000    8.000000    6.000000  512.329200\n"
          ],
          "name": "stdout"
        },
        {
          "output_type": "execute_result",
          "data": {
            "text/plain": [
              "<matplotlib.lines.Line2D at 0x7f3b995da470>"
            ]
          },
          "metadata": {
            "tags": []
          },
          "execution_count": 3
        },
        {
          "output_type": "display_data",
          "data": {
            "image/png": "[encoded data removed]",
            "text/plain": [
              "<matplotlib.figure.Figure at 0x7f3b996998d0>"
            ]
          },
          "metadata": {
            "tags": []
          }
        }
      ]
    },
    {
      "metadata": {
        "id": "1c6gV5LejKcb",
        "colab_type": "text"
      },
      "cell_type": "markdown",
      "source": [
        "### OKCupid\n",
        "\n",
        "The OKCupid dataset is 150MB and needs to be downloaded to your Colab session before you can load it. It loads using the same command as the titanic."
      ]
    },
    {
      "metadata": {
        "id": "8e9v96QD9QsC",
        "colab_type": "code",
        "colab": {
          "base_uri": "https://localhost:8080/",
          "height": 289
        },
        "outputId": "01bb5eff-2194-491d-f142-248cc1c44805"
      },
      "cell_type": "code",
      "source": [
        "!wget https://www.dropbox.com/s/kurta6eazegc3su/JSE_OkCupid_profiles.csv?raw=1 -O /tmp/JSE_OkCupid_profiles.csv"
      ],
      "execution_count": 0,
      "outputs": [
        {
          "output_type": "stream",
          "text": [
            "--2018-04-10 19:11:38--  https://www.dropbox.com/s/kurta6eazegc3su/JSE_OkCupid_profiles.csv?raw=1\n",
            "Resolving www.dropbox.com (www.dropbox.com)... 162.125.81.1, 2620:100:601c:1::a27d:601\n",
            "Connecting to www.dropbox.com (www.dropbox.com)|162.125.81.1|:443... connected.\n",
            "HTTP request sent, awaiting response... 302 Found\n",
            "Location: https://dl.dropboxusercontent.com/content_link/DT1MLKu4B0xL5WwqeuhGHFaye6d7cGflUD0tFEuWO44gBJsS9Segb7o8hKj50Q0A/file [following]\n",
            "--2018-04-10 19:11:39--  https://dl.dropboxusercontent.com/content_link/DT1MLKu4B0xL5WwqeuhGHFaye6d7cGflUD0tFEuWO44gBJsS9Segb7o8hKj50Q0A/file\n",
            "Resolving dl.dropboxusercontent.com (dl.dropboxusercontent.com)... 162.125.6.6, 2620:100:6022:6::a27d:4206\n",
            "Connecting to dl.dropboxusercontent.com (dl.dropboxusercontent.com)|162.125.6.6|:443... connected.\n",
            "HTTP request sent, awaiting response... 200 OK\n",
            "Length: 151614805 (145M) [text/csv]\n",
            "Saving to: ‘/tmp/JSE_OkCupid_profiles.csv’\n",
            "\n",
            "/tmp/JSE_OkCupid_pr 100%[===================>] 144.59M  60.7MB/s    in 2.4s    \n",
            "\n",
            "2018-04-10 19:11:43 (60.7 MB/s) - ‘/tmp/JSE_OkCupid_profiles.csv’ saved [151614805/151614805]\n",
            "\n"
          ],
          "name": "stdout"
        }
      ]
    },
    {
      "metadata": {
        "id": "9jKkl2Cy8ySu",
        "colab_type": "code",
        "colab": {
          "base_uri": "https://localhost:8080/",
          "height": 799
        },
        "outputId": "4538dfc1-efff-4b39-d82b-99b8a130581a"
      },
      "cell_type": "code",
      "source": [
        "okcupid = pd.read_csv('/tmp/JSE_OkCupid_profiles.csv')\n",
        "\n",
        "# almost 60000 individuals with 31 columns each\n",
        "print(okcupid.shape)\n",
        "\n",
        "# There are many more columns in OKCupid than titanic\n",
        "print(okcupid.columns)\n",
        "\n",
        "# The set of body_types \n",
        "print(okcupid.body_type.unique())\n",
        "\n",
        "print(okcupid.info())"
      ],
      "execution_count": 0,
      "outputs": [
        {
          "output_type": "stream",
          "text": [
            "(59946, 31)\n",
            "Index(['age', 'body_type', 'diet', 'drinks', 'drugs', 'education', 'essay0',\n",
            "       'essay1', 'essay2', 'essay3', 'essay4', 'essay5', 'essay6', 'essay7',\n",
            "       'essay8', 'essay9', 'ethnicity', 'height', 'income', 'job',\n",
            "       'last_online', 'location', 'offspring', 'orientation', 'pets',\n",
            "       'religion', 'sex', 'sign', 'smokes', 'speaks', 'status'],\n",
            "      dtype='object')\n",
            "['a little extra' 'average' 'thin' 'athletic' 'fit' nan 'skinny' 'curvy'\n",
            " 'full figured' 'jacked' 'rather not say' 'used up' 'overweight']\n",
            "<class 'pandas.core.frame.DataFrame'>\n",
            "RangeIndex: 59946 entries, 0 to 59945\n",
            "Data columns (total 31 columns):\n",
            "age            59946 non-null int64\n",
            "body_type      54650 non-null object\n",
            "diet           35551 non-null object\n",
            "drinks         56961 non-null object\n",
            "drugs          45866 non-null object\n",
            "education      53318 non-null object\n",
            "essay0         54458 non-null object\n",
            "essay1         52374 non-null object\n",
            "essay2         50308 non-null object\n",
            "essay3         48470 non-null object\n",
            "essay4         49409 non-null object\n",
            "essay5         49096 non-null object\n",
            "essay6         46175 non-null object\n",
            "essay7         47495 non-null object\n",
            "essay8         40721 non-null object\n",
            "essay9         47343 non-null object\n",
            "ethnicity      54266 non-null object\n",
            "height         59943 non-null float64\n",
            "income         59946 non-null int64\n",
            "job            51748 non-null object\n",
            "last_online    59946 non-null object\n",
            "location       59946 non-null object\n",
            "offspring      24385 non-null object\n",
            "orientation    59946 non-null object\n",
            "pets           40025 non-null object\n",
            "religion       39720 non-null object\n",
            "sex            59946 non-null object\n",
            "sign           48890 non-null object\n",
            "smokes         54434 non-null object\n",
            "speaks         59896 non-null object\n",
            "status         59946 non-null object\n",
            "dtypes: float64(1), int64(2), object(28)\n",
            "memory usage: 14.2+ MB\n",
            "None\n"
          ],
          "name": "stdout"
        }
      ]
    },
    {
      "metadata": {
        "id": "C_uI8e20_TVo",
        "colab_type": "code",
        "colab": {
          "base_uri": "https://localhost:8080/",
          "height": 782
        },
        "outputId": "a1438fb3-8232-4da9-9d65-ab83c922083f"
      },
      "cell_type": "code",
      "source": [
        "# The number of unique entries for each column\n",
        "for column in okcupid.columns:\n",
        "  print(column, okcupid[column].unique().size)\n",
        "print(okcupid['income'].value_counts())"
      ],
      "execution_count": 0,
      "outputs": [
        {
          "output_type": "stream",
          "text": [
            "age 54\n",
            "body_type 13\n",
            "diet 19\n",
            "drinks 7\n",
            "drugs 4\n",
            "education 33\n",
            "essay0 54351\n",
            "essay1 51517\n",
            "essay2 48636\n",
            "essay3 43534\n",
            "essay4 49261\n",
            "essay5 48964\n",
            "essay6 43604\n",
            "essay7 45555\n",
            "essay8 39325\n",
            "essay9 45444\n",
            "ethnicity 218\n",
            "height 61\n",
            "income 13\n",
            "job 22\n",
            "last_online 30123\n",
            "location 199\n",
            "offspring 16\n",
            "orientation 3\n",
            "pets 16\n",
            "religion 46\n",
            "sex 2\n",
            "sign 49\n",
            "smokes 6\n",
            "speaks 7648\n",
            "status 5\n",
            "-1          48442\n",
            " 20000       2952\n",
            " 100000      1621\n",
            " 80000       1111\n",
            " 30000       1048\n",
            " 40000       1005\n",
            " 50000        975\n",
            " 60000        736\n",
            " 70000        707\n",
            " 150000       631\n",
            " 1000000      521\n",
            " 250000       149\n",
            " 500000        48\n",
            "Name: income, dtype: int64\n"
          ],
          "name": "stdout"
        }
      ]
    },
    {
      "metadata": {
        "id": "Tk9Wgi3GDdHz",
        "colab_type": "code",
        "colab": {
          "base_uri": "https://localhost:8080/",
          "height": 646
        },
        "outputId": "8d6a90f5-9280-4521-b268-60adbe6d10b3"
      },
      "cell_type": "code",
      "source": [
        "print(okcupid[0:10].isnull())"
      ],
      "execution_count": 0,
      "outputs": [
        {
          "output_type": "stream",
          "text": [
            "     age  body_type   diet  drinks  drugs  education  essay0  essay1  essay2  \\\n",
            "0  False      False  False   False  False      False   False   False   False   \n",
            "1  False      False  False   False  False      False   False   False   False   \n",
            "2  False      False  False   False   True      False   False   False   False   \n",
            "3  False      False  False   False   True      False   False   False   False   \n",
            "4  False      False   True   False  False      False   False   False   False   \n",
            "5  False      False  False   False   True      False   False   False   False   \n",
            "6  False      False  False   False  False      False   False   False   False   \n",
            "7  False      False  False   False  False      False    True   False   False   \n",
            "8  False       True  False   False   True      False    True   False    True   \n",
            "9  False      False  False   False  False      False   False   False   False   \n",
            "\n",
            "   essay3   ...    location  offspring  orientation   pets  religion    sex  \\\n",
            "0   False   ...       False      False        False  False     False  False   \n",
            "1    True   ...       False      False        False  False     False  False   \n",
            "2   False   ...       False       True        False  False      True  False   \n",
            "3   False   ...       False      False        False  False      True  False   \n",
            "4   False   ...       False       True        False  False      True  False   \n",
            "5   False   ...       False      False        False  False     False  False   \n",
            "6   False   ...       False       True        False  False      True  False   \n",
            "7   False   ...       False      False        False  False     False  False   \n",
            "8   False   ...       False      False        False  False     False  False   \n",
            "9   False   ...       False       True        False  False     False  False   \n",
            "\n",
            "    sign  smokes  speaks  status  \n",
            "0  False   False   False   False  \n",
            "1  False   False   False   False  \n",
            "2  False   False   False   False  \n",
            "3  False   False   False   False  \n",
            "4  False   False   False   False  \n",
            "5  False   False   False   False  \n",
            "6  False    True   False   False  \n",
            "7  False   False   False   False  \n",
            "8  False   False   False   False  \n",
            "9  False   False   False   False  \n",
            "\n",
            "[10 rows x 31 columns]\n"
          ],
          "name": "stdout"
        }
      ]
    },
    {
      "metadata": {
        "id": "59Qnyj9bkUhE",
        "colab_type": "text"
      },
      "cell_type": "markdown",
      "source": [
        "### Duplicates\n",
        "\n",
        "There are no duplicates in OKCupid and 107 titanic duplicates."
      ]
    },
    {
      "metadata": {
        "id": "5Cr0C2rWEsbQ",
        "colab_type": "code",
        "colab": {
          "base_uri": "https://localhost:8080/",
          "height": 51
        },
        "outputId": "19abb01e-8310-4bc2-95fd-a130bb465f0a"
      },
      "cell_type": "code",
      "source": [
        "print(okcupid.duplicated().sum())\n",
        "print(titanic.duplicated().sum())"
      ],
      "execution_count": 0,
      "outputs": [
        {
          "output_type": "stream",
          "text": [
            "0\n",
            "107\n"
          ],
          "name": "stdout"
        }
      ]
    },
    {
      "metadata": {
        "id": "87kUO0AppxKK",
        "colab_type": "text"
      },
      "cell_type": "markdown",
      "source": [
        "## Instructions\n",
        "\n",
        "Titanic contains 891 records with 107 duplicates. The final table should contain 784 records. The titanic dataset is also full of  redudant columns: `survived : alive`, `sex : who : adult_male`, which can be identified if they are truly redundant and can be removed if so.\n",
        "\n",
        "The OKCupid dataset has ~60k records. There are 31 columns that match many of the features (importantly age/sex) in the titanic set.\n",
        "\n",
        "Update each row of the titanic dataset to contain OKCupid data that matches in demographic information. Select a few columns from the OKCUpid dataset to transfer to the titanic dataset as well to increase the personality of each entry. Do not move the extremely long written records in the OKCupid dataset as part of this process. Those records will be useful later for NLP and text mining.\n",
        "\n",
        "_Document and justify your decisions!_\n",
        "\n",
        "### Redundant columns\n",
        "\n",
        "* Titanic\n",
        "  * pclass / class - pclass is a number 1 to 3; class is a string First, Second, or Third\n",
        "  * survived / alive - survived is binary 0 for no, 1 for yes; alive is a yes/no string\n",
        "  * embarked / embark_town - \n",
        "  \n",
        "* OKCupid\n",
        "  * None\n",
        "\n",
        "### Superfluous columns\n",
        "\n",
        "* Titanic\n",
        "  * deck - ~66% NaN, and not very informative. Passengers were not confined to their staterooms, even \n"
      ]
    },
    {
      "metadata": {
        "id": "kNgsZK6Tj9O9",
        "colab_type": "code",
        "colab": {
          "base_uri": "https://localhost:8080/",
          "height": 1037
        },
        "outputId": "eadba51e-25c2-49a9-c1e1-d265ddacfb9d"
      },
      "cell_type": "code",
      "source": [
        "#Investigate data\n",
        "print(okcupid['income'].value_counts(), '\\r\\n')\n",
        "# print(t_2['age'].value_counts(), '\\r\\n')\n",
        "\n",
        "# Clean up data t_2 = cleaned titanic dataframe o_2 = cleaned OKCupid dataframe\n",
        "t_2 = titanic.drop_duplicates()\n",
        "t_2 = t_2.drop('deck', axis=1)\n",
        "t_2 = t_2.drop('class', axis=1)\n",
        "t_2 = t_2.drop('embarked', axis=1)\n",
        "t_2 = t_2.drop('alive', axis=1)\n",
        "\n",
        "#Confirm cleanup\n",
        "print(t_2.info())\n",
        "print(t_2.iloc[:,:].describe())\n",
        "print(t_2.head(8))\n",
        "\n"
      ],
      "execution_count": 0,
      "outputs": [
        {
          "output_type": "stream",
          "text": [
            "-1          48442\n",
            " 20000       2952\n",
            " 100000      1621\n",
            " 80000       1111\n",
            " 30000       1048\n",
            " 40000       1005\n",
            " 50000        975\n",
            " 60000        736\n",
            " 70000        707\n",
            " 150000       631\n",
            " 1000000      521\n",
            " 250000       149\n",
            " 500000        48\n",
            "Name: income, dtype: int64 \r\n",
            "\n",
            "<class 'pandas.core.frame.DataFrame'>\n",
            "Int64Index: 784 entries, 0 to 890\n",
            "Data columns (total 11 columns):\n",
            "survived       784 non-null int64\n",
            "pclass         784 non-null int64\n",
            "sex            784 non-null object\n",
            "age            678 non-null float64\n",
            "sibsp          784 non-null int64\n",
            "parch          784 non-null int64\n",
            "fare           784 non-null float64\n",
            "who            784 non-null object\n",
            "adult_male     784 non-null bool\n",
            "embark_town    782 non-null object\n",
            "alone          784 non-null bool\n",
            "dtypes: bool(2), float64(2), int64(4), object(3)\n",
            "memory usage: 62.8+ KB\n",
            "None\n",
            "         survived      pclass         age       sibsp       parch        fare\n",
            "count  784.000000  784.000000  678.000000  784.000000  784.000000  784.000000\n",
            "mean     0.411990    2.243622   29.869351    0.522959    0.415816   34.711740\n",
            "std      0.492507    0.855056   14.759076    0.986231    0.836922   52.160151\n",
            "min      0.000000    1.000000    0.420000    0.000000    0.000000    0.000000\n",
            "25%      0.000000    1.000000   20.000000    0.000000    0.000000    8.050000\n",
            "50%      0.000000    3.000000   28.250000    0.000000    0.000000   15.900000\n",
            "75%      1.000000    3.000000   39.000000    1.000000    1.000000   34.109350\n",
            "max      1.000000    3.000000   80.000000    8.000000    6.000000  512.329200\n",
            "   survived  pclass     sex   age  sibsp  parch     fare    who  adult_male  \\\n",
            "0         0       3    male  22.0      1      0   7.2500    man        True   \n",
            "1         1       1  female  38.0      1      0  71.2833  woman       False   \n",
            "2         1       3  female  26.0      0      0   7.9250  woman       False   \n",
            "3         1       1  female  35.0      1      0  53.1000  woman       False   \n",
            "4         0       3    male  35.0      0      0   8.0500    man        True   \n",
            "5         0       3    male   NaN      0      0   8.4583    man        True   \n",
            "6         0       1    male  54.0      0      0  51.8625    man        True   \n",
            "7         0       3    male   2.0      3      1  21.0750  child       False   \n",
            "\n",
            "   embark_town  alone  \n",
            "0  Southampton  False  \n",
            "1    Cherbourg  False  \n",
            "2  Southampton   True  \n",
            "3  Southampton  False  \n",
            "4  Southampton   True  \n",
            "5   Queenstown   True  \n",
            "6  Southampton   True  \n",
            "7  Southampton  False  \n"
          ],
          "name": "stdout"
        }
      ]
    },
    {
      "metadata": {
        "id": "FMnMRs4NrpEB",
        "colab_type": "text"
      },
      "cell_type": "markdown",
      "source": [
        "### Benchmarks\n",
        "\n",
        "The titanic dataset is very popular for beginning Data Science training.\n",
        "\n",
        "Your final dataset should have 784 records and perfectly match these two obvious and famous benchmarks of the titanic data, with other new, interesting analysis available from your combinations:"
      ]
    },
    {
      "metadata": {
        "id": "jL2b-emDr1Hj",
        "colab_type": "code",
        "colab": {
          "base_uri": "https://localhost:8080/",
          "height": 142
        },
        "outputId": "80fba478-3dfe-483a-f01c-d91cbfa78fd6"
      },
      "cell_type": "code",
      "source": [
        "t_2.groupby('sex')[['survived']].mean()"
      ],
      "execution_count": 0,
      "outputs": [
        {
          "output_type": "execute_result",
          "data": {
            "text/html": [
              "<div>\n",
              "<style scoped>\n",
              "    .dataframe tbody tr th:only-of-type {\n",
              "        vertical-align: middle;\n",
              "    }\n",
              "\n",
              "    .dataframe tbody tr th {\n",
              "        vertical-align: top;\n",
              "    }\n",
              "\n",
              "    .dataframe thead th {\n",
              "        text-align: right;\n",
              "    }\n",
              "</style>\n",
              "<table border=\"1\" class=\"dataframe\">\n",
              "  <thead>\n",
              "    <tr style=\"text-align: right;\">\n",
              "      <th></th>\n",
              "      <th>survived</th>\n",
              "    </tr>\n",
              "    <tr>\n",
              "      <th>sex</th>\n",
              "      <th></th>\n",
              "    </tr>\n",
              "  </thead>\n",
              "  <tbody>\n",
              "    <tr>\n",
              "      <th>female</th>\n",
              "      <td>0.740614</td>\n",
              "    </tr>\n",
              "    <tr>\n",
              "      <th>male</th>\n",
              "      <td>0.215886</td>\n",
              "    </tr>\n",
              "  </tbody>\n",
              "</table>\n",
              "</div>"
            ],
            "text/plain": [
              "        survived\n",
              "sex             \n",
              "female  0.740614\n",
              "male    0.215886"
            ]
          },
          "metadata": {
            "tags": []
          },
          "execution_count": 6
        }
      ]
    },
    {
      "metadata": {
        "id": "0EYtEZ6Gr3CC",
        "colab_type": "code",
        "colab": {
          "base_uri": "https://localhost:8080/",
          "height": 142
        },
        "outputId": "075f7237-e11e-44f4-b1ba-7d70e3884ac1"
      },
      "cell_type": "code",
      "source": [
        "t_2.groupby(['sex', 'class'])['survived'].aggregate('mean').unstack()"
      ],
      "execution_count": 0,
      "outputs": [
        {
          "output_type": "execute_result",
          "data": {
            "text/html": [
              "<div>\n",
              "<style scoped>\n",
              "    .dataframe tbody tr th:only-of-type {\n",
              "        vertical-align: middle;\n",
              "    }\n",
              "\n",
              "    .dataframe tbody tr th {\n",
              "        vertical-align: top;\n",
              "    }\n",
              "\n",
              "    .dataframe thead th {\n",
              "        text-align: right;\n",
              "    }\n",
              "</style>\n",
              "<table border=\"1\" class=\"dataframe\">\n",
              "  <thead>\n",
              "    <tr style=\"text-align: right;\">\n",
              "      <th>class</th>\n",
              "      <th>First</th>\n",
              "      <th>Second</th>\n",
              "      <th>Third</th>\n",
              "    </tr>\n",
              "    <tr>\n",
              "      <th>sex</th>\n",
              "      <th></th>\n",
              "      <th></th>\n",
              "      <th></th>\n",
              "    </tr>\n",
              "  </thead>\n",
              "  <tbody>\n",
              "    <tr>\n",
              "      <th>female</th>\n",
              "      <td>0.967742</td>\n",
              "      <td>0.917808</td>\n",
              "      <td>0.472441</td>\n",
              "    </tr>\n",
              "    <tr>\n",
              "      <th>male</th>\n",
              "      <td>0.371901</td>\n",
              "      <td>0.184783</td>\n",
              "      <td>0.158273</td>\n",
              "    </tr>\n",
              "  </tbody>\n",
              "</table>\n",
              "</div>"
            ],
            "text/plain": [
              "class      First    Second     Third\n",
              "sex                                 \n",
              "female  0.967742  0.917808  0.472441\n",
              "male    0.371901  0.184783  0.158273"
            ]
          },
          "metadata": {
            "tags": []
          },
          "execution_count": 7
        }
      ]
    },
    {
      "metadata": {
        "id": "hIImiG28QAb-",
        "colab_type": "text"
      },
      "cell_type": "markdown",
      "source": [
        "### Suggested search terms\n",
        "\n",
        "python pandas replace columns\n",
        "\n",
        "python pandas concatenate columns\n",
        "\n",
        "python pandas concatenate rows\n",
        "\n",
        "python pandas remove duplicates\n",
        "\n",
        "python pandas merge and join records"
      ]
    },
    {
      "metadata": {
        "id": "D8K8brpnuwCn",
        "colab_type": "text"
      },
      "cell_type": "markdown",
      "source": [
        "\n",
        "# Stretch goal\n",
        "\n",
        "Analyze the data in your new titanic dataset using the visualization tutorials found here:\n",
        "\n",
        "\n",
        "[Seaborn plots](https://jakevdp.github.io/PythonDataScienceHandbook/04.14-visualization-with-seaborn.html)"
      ]
    }
  ]
}
